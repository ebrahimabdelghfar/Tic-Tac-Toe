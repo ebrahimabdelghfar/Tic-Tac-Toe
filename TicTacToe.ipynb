{
 "cells": [
  {
   "cell_type": "markdown",
   "metadata": {},
   "source": [
    "# **Init the list**"
   ]
  },
  {
   "cell_type": "code",
   "execution_count": 29,
   "metadata": {},
   "outputs": [],
   "source": [
    "gameBoard=[[0,0,0],[0,0,0],[0,0,0]]"
   ]
  },
  {
   "cell_type": "markdown",
   "metadata": {},
   "source": [
    "# **Check Horizontal Row**"
   ]
  },
  {
   "cell_type": "code",
   "execution_count": 30,
   "metadata": {},
   "outputs": [],
   "source": [
    "def checkHorizontal(board):\n",
    "    marks=['x','o']\n",
    "    for mark in marks:\n",
    "        for row in board:\n",
    "            if row==[mark,mark,mark]:\n",
    "                print(mark,'wins')\n",
    "                return True\n",
    "            else:\n",
    "                continue\n",
    "    return False"
   ]
  },
  {
   "cell_type": "markdown",
   "metadata": {},
   "source": [
    "# **Check Vertical**"
   ]
  },
  {
   "cell_type": "code",
   "execution_count": 31,
   "metadata": {},
   "outputs": [],
   "source": [
    "def checkVertical(board):\n",
    "    marks=['x','o']\n",
    "    for mark in marks:\n",
    "        for column in range(3):\n",
    "            if board[0][column]==mark and board[1][column]==mark and board[2][column]==mark:\n",
    "                print(mark,'wins')\n",
    "                return True\n",
    "            else:\n",
    "                continue\n",
    "    return False"
   ]
  },
  {
   "cell_type": "markdown",
   "metadata": {},
   "source": [
    "# **Check diagonal**"
   ]
  },
  {
   "cell_type": "code",
   "execution_count": 32,
   "metadata": {},
   "outputs": [],
   "source": [
    "def CheckDiagonal(board):\n",
    "    marks = ['x', 'o']\n",
    "    for mark in marks:\n",
    "        if board[0][0] == board[1][1] == board[2][2] == mark:\n",
    "            print(f\"{mark} wins\")\n",
    "            return True\n",
    "        elif board[0][2] == board[1][1] == board[2][0] == mark:\n",
    "            print(f\"{mark} wins\")\n",
    "            return True\n",
    "        else:\n",
    "            \n",
    "            continue\n",
    "    return False"
   ]
  },
  {
   "cell_type": "markdown",
   "metadata": {},
   "source": [
    "# **Function To print game Board**"
   ]
  },
  {
   "cell_type": "code",
   "execution_count": 33,
   "metadata": {},
   "outputs": [],
   "source": [
    "def printBoard(Board):\n",
    "    print(\"-------------\")\n",
    "    print(\"|\", Board[0][0], \"|\", Board[0][1], \"|\", Board[0][2], \"|\")\n",
    "    print(\"-------------\")\n",
    "    print(\"|\", Board[1][0], \"|\", Board[1][1], \"|\", Board[1][2], \"|\")\n",
    "    print(\"-------------\")\n",
    "    print(\"|\", Board[2][0], \"|\", Board[2][1], \"|\", Board[2][2], \"|\")\n",
    "    print(\"-------------\")"
   ]
  },
  {
   "cell_type": "code",
   "execution_count": 34,
   "metadata": {},
   "outputs": [],
   "source": [
    "def Game(board):\n",
    "    print(\"Welcome to Tic Tac Toe!\")\n",
    "    print(\"Player 1: x , Player 2: O\")\n",
    "    print(\"the pos should be entered as row,col starting from 0 to 2\")\n",
    "    turn=1\n",
    "    mark='X'\n",
    "    winstate=False\n",
    "    pos=[]\n",
    "    while True:\n",
    "        if turn%2==0:\n",
    "            print(\"Player 2 turn\")\n",
    "            mark='o'\n",
    "        elif turn%2!=0:\n",
    "            print(\"Player 1 turn\")\n",
    "            mark='x'\n",
    "        pos=input(\"Enter the position: \")\n",
    "        pos=pos.split(',')\n",
    "        row,col=int(pos[0]),int(pos[1])\n",
    "        if board[row][col]==0:\n",
    "            board[row][col]=mark\n",
    "            print(board)\n",
    "        else:\n",
    "            print(\"Invalid position\")\n",
    "            continue\n",
    "        print(board)\n",
    "        if checkHorizontal(board) or checkVertical(board) or CheckDiagonal(board):\n",
    "            print(\"Player {} wins\".format(mark))\n",
    "            break\n",
    "        if any(0 in row for row in gameBoard):\n",
    "            turn+=1\n",
    "            pass\n",
    "        else:\n",
    "            print(\"draw\")\n",
    "            break\n",
    "\n"
   ]
  },
  {
   "cell_type": "code",
   "execution_count": 35,
   "metadata": {},
   "outputs": [
    {
     "name": "stdout",
     "output_type": "stream",
     "text": [
      "Welcome to Tic Tac Toe!\n",
      "Player 1: x , Player 2: O\n",
      "the pos should be entered as row,col starting from 0 to 2\n",
      "Player 1 turn\n",
      "[['x', 0, 0], [0, 0, 0], [0, 0, 0]]\n",
      "[['x', 0, 0], [0, 0, 0], [0, 0, 0]]\n",
      "-------------\n",
      "| x | 0 | 0 |\n",
      "-------------\n",
      "| 0 | 0 | 0 |\n",
      "-------------\n",
      "| 0 | 0 | 0 |\n",
      "-------------\n",
      "Player 2 turn\n",
      "[['x', 0, 0], ['o', 0, 0], [0, 0, 0]]\n",
      "[['x', 0, 0], ['o', 0, 0], [0, 0, 0]]\n",
      "-------------\n",
      "| x | 0 | 0 |\n",
      "-------------\n",
      "| o | 0 | 0 |\n",
      "-------------\n",
      "| 0 | 0 | 0 |\n",
      "-------------\n",
      "Player 1 turn\n",
      "[['x', 'x', 0], ['o', 0, 0], [0, 0, 0]]\n",
      "[['x', 'x', 0], ['o', 0, 0], [0, 0, 0]]\n",
      "-------------\n",
      "| x | x | 0 |\n",
      "-------------\n",
      "| o | 0 | 0 |\n",
      "-------------\n",
      "| 0 | 0 | 0 |\n",
      "-------------\n",
      "Player 2 turn\n",
      "Invalid position\n",
      "Player 2 turn\n",
      "[['x', 'x', 0], ['o', 'o', 0], [0, 0, 0]]\n",
      "[['x', 'x', 0], ['o', 'o', 0], [0, 0, 0]]\n",
      "-------------\n",
      "| x | x | 0 |\n",
      "-------------\n",
      "| o | o | 0 |\n",
      "-------------\n",
      "| 0 | 0 | 0 |\n",
      "-------------\n",
      "Player 1 turn\n",
      "[['x', 'x', 'x'], ['o', 'o', 0], [0, 0, 0]]\n",
      "[['x', 'x', 'x'], ['o', 'o', 0], [0, 0, 0]]\n",
      "x wins\n",
      "Player x wins\n"
     ]
    }
   ],
   "source": [
    "Game(gameBoard)"
   ]
  },
  {
   "cell_type": "code",
   "execution_count": null,
   "metadata": {},
   "outputs": [],
   "source": []
  }
 ],
 "metadata": {
  "kernelspec": {
   "display_name": "Python 3",
   "language": "python",
   "name": "python3"
  },
  "language_info": {
   "codemirror_mode": {
    "name": "ipython",
    "version": 3
   },
   "file_extension": ".py",
   "mimetype": "text/x-python",
   "name": "python",
   "nbconvert_exporter": "python",
   "pygments_lexer": "ipython3",
   "version": "3.8.8rc1"
  },
  "orig_nbformat": 4
 },
 "nbformat": 4,
 "nbformat_minor": 2
}
